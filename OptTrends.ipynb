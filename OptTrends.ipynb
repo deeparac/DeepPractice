{
 "cells": [
  {
   "cell_type": "markdown",
   "metadata": {},
   "source": [
    "# Popular Optimizers\n",
    "\n",
    "Optimizers are implemented based on book Deep Learning.\n",
    "\n",
    "Gradients are computed automatically by MXNet"
   ]
  },
  {
   "cell_type": "code",
   "execution_count": null,
   "metadata": {},
   "outputs": [],
   "source": [
    "import mxnet as mx"
   ]
  },
  {
   "cell_type": "markdown",
   "metadata": {},
   "source": [
    "## First Order Method\n",
    "1. Stochastic Gradient Descent\n",
    "2. SGD with Momentum\n",
    "3. Nesterov Accelerated Gradient Descent"
   ]
  },
  {
   "cell_type": "code",
   "execution_count": null,
   "metadata": {},
   "outputs": [],
   "source": [
    "def sgd(params, batch_size, lr):\n",
    "    for param in params:\n",
    "        param[:] = param - lr * param.grad\n",
    "\n",
    "def sgd_momentum(params, prev_state, lr, batch_size, momentum=.9):\n",
    "    for param in params:\n",
    "        state = -lr * param.grad / batch_size + momentum * prev_state\n",
    "        param[:] = param + state\n",
    "        \n",
    "def nesterov(params, state, lr, batch_size, momentum=.9):\n",
    "    for param in params:\n",
    "        state = -lr * param.grad / batch_size + momentum * prev_state\n",
    "        param[:] += -momentum * prev_state + (1 + momentum) * state"
   ]
  },
  {
   "cell_type": "markdown",
   "metadata": {},
   "source": [
    "## Adaptive Methods\n",
    "\n",
    "1. AdaGrad\n",
    "2. RMSProp\n",
    "3. Adam"
   ]
  },
  {
   "cell_type": "code",
   "execution_count": null,
   "metadata": {},
   "outputs": [],
   "source": [
    "def adagrad(params, lr, batch_size, delta=1e-7):\n",
    "    # init gradient accumulation\n",
    "    r = 0\n",
    "    def update(params, lr, batch_size):\n",
    "        for param in params:\n",
    "            # compute gradient\n",
    "            g = param.grad / batch_size\n",
    "            # accumulate\n",
    "            r += mx.nd.square(g)\n",
    "            # compute update\n",
    "            adagrad = (lr / (delta + mx.nd.sqrt(r))) * g\n",
    "            # apply update\n",
    "            param[:] += -adagrad\n",
    "    return update(params, lr, batch_size)\n",
    "\n",
    "def rmsprop(params, lr, wd, batch_size, delta=1e-6):\n",
    "    # init gradient accumulation\n",
    "    r = 0\n",
    "    def update(params, lr, batch_size):\n",
    "        for param in params:\n",
    "            # compute gradient\n",
    "            g = param.grad / batch_size\n",
    "            # accumulate\n",
    "            r = wd * r + (1 - wd) * mx.nd.square(g)\n",
    "            # compute update\n",
    "            rmsgrad = (lr / (delta + mx.nd.sqrt(r))) * g\n",
    "            # apply update\n",
    "            param[:] += -rmsgrad\n",
    "    return update(params, lr, batch_size)\n",
    "\n",
    "def adam(params, batch_size, \n",
    "         delta=1e-8, rho_1=.9, rho_2=.999, eps=1e-3):\n",
    "    # init gradient accumulation\n",
    "    s = 0\n",
    "    r = 0\n",
    "    t = 0\n",
    "    def update(batch_size, delta, rho_1, rho_2, eps):\n",
    "        for param in params:\n",
    "            # compute gradient\n",
    "            g = param.grad / batch_size\n",
    "            # update time step\n",
    "            t += 1\n",
    "            # update biased first moment\n",
    "            s = rho_1 * s + (1 - rho_1) * g\n",
    "            # update biased second moment\n",
    "            r = rho_2 * r + (1 - rho_2) * mx.nd.square(g)\n",
    "            # correct bias in 1st moment\n",
    "            s = s / (1 - rho_1 ** t)\n",
    "            # correct bias in 2nd moment\n",
    "            r = r / (1 - rho_2 ** t)\n",
    "            # compute update\n",
    "            adamgrad = eps * (s / (delta + mx.nd.sqrt(r)))\n",
    "            # apply update\n",
    "            param[:] += -adamgrad\n",
    "    return update(batch_size, delta, rho_1, rho_2, eps)"
   ]
  },
  {
   "cell_type": "markdown",
   "metadata": {},
   "source": [
    "## Comments\n",
    "\n",
    "Generally, adaptive methods can be viewed as second order moment approxiamations.\n",
    "\n",
    "Adaptive methods require less babysitting while their performance on test set may be not as good as SGD."
   ]
  }
 ],
 "metadata": {
  "kernelspec": {
   "display_name": "Python 3",
   "language": "python",
   "name": "python3"
  },
  "language_info": {
   "codemirror_mode": {
    "name": "ipython",
    "version": 3
   },
   "file_extension": ".py",
   "mimetype": "text/x-python",
   "name": "python",
   "nbconvert_exporter": "python",
   "pygments_lexer": "ipython3",
   "version": "3.6.3"
  }
 },
 "nbformat": 4,
 "nbformat_minor": 2
}
