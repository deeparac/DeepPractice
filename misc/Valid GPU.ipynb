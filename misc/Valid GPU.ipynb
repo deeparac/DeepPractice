{
 "cells": [
  {
   "cell_type": "code",
   "execution_count": 1,
   "metadata": {},
   "outputs": [
    {
     "name": "stderr",
     "output_type": "stream",
     "text": [
      "Using TensorFlow backend.\n"
     ]
    }
   ],
   "source": [
    "import tensorflow as tf\n",
    "import mxnet as mx\n",
    "import keras"
   ]
  },
  {
   "cell_type": "code",
   "execution_count": 2,
   "metadata": {},
   "outputs": [
    {
     "name": "stdout",
     "output_type": "stream",
     "text": [
      "[[ 22.  28.]\n",
      " [ 49.  64.]]\n"
     ]
    }
   ],
   "source": [
    "# Creates a graph.\n",
    "a = tf.constant([1.0, 2.0, 3.0, 4.0, 5.0, 6.0], shape=[2, 3], name='a')\n",
    "b = tf.constant([1.0, 2.0, 3.0, 4.0, 5.0, 6.0], shape=[3, 2], name='b')\n",
    "c = tf.matmul(a, b)\n",
    "# Creates a session with log_device_placement set to True.\n",
    "sess = tf.Session(config=tf.ConfigProto(log_device_placement=True))\n",
    "# Runs the op.\n",
    "print(sess.run(c))"
   ]
  },
  {
   "cell_type": "code",
   "execution_count": 3,
   "metadata": {},
   "outputs": [
    {
     "name": "stdout",
     "output_type": "stream",
     "text": [
      "[[ 22.  28.]\n",
      " [ 49.  64.]]\n"
     ]
    }
   ],
   "source": [
    "# Creates a graph.\n",
    "with tf.device('/gpu:0'):\n",
    "    a = tf.constant([1.0, 2.0, 3.0, 4.0, 5.0, 6.0], shape=[2, 3], name='a')\n",
    "    b = tf.constant([1.0, 2.0, 3.0, 4.0, 5.0, 6.0], shape=[3, 2], name='b')\n",
    "c = tf.matmul(a, b)\n",
    "# Creates a session with log_device_placement set to True.\n",
    "sess = tf.Session(config=tf.ConfigProto(log_device_placement=True))\n",
    "# Runs the op.\n",
    "print(sess.run(c))"
   ]
  },
  {
   "cell_type": "code",
   "execution_count": 4,
   "metadata": {},
   "outputs": [
    {
     "name": "stdout",
     "output_type": "stream",
     "text": [
      "\n",
      "[[ 2.  2.  2. ...,  2.  2.  2.]\n",
      " [ 2.  2.  2. ...,  2.  2.  2.]\n",
      " [ 2.  2.  2. ...,  2.  2.  2.]\n",
      " ..., \n",
      " [ 2.  2.  2. ...,  2.  2.  2.]\n",
      " [ 2.  2.  2. ...,  2.  2.  2.]\n",
      " [ 2.  2.  2. ...,  2.  2.  2.]]\n",
      "<NDArray 100x100 @cpu(0)>\n",
      "\n",
      "[[ 2.  2.  2. ...,  2.  2.  2.]\n",
      " [ 2.  2.  2. ...,  2.  2.  2.]\n",
      " [ 2.  2.  2. ...,  2.  2.  2.]\n",
      " ..., \n",
      " [ 2.  2.  2. ...,  2.  2.  2.]\n",
      " [ 2.  2.  2. ...,  2.  2.  2.]\n",
      " [ 2.  2.  2. ...,  2.  2.  2.]]\n",
      "<NDArray 100x100 @gpu(0)>\n"
     ]
    }
   ],
   "source": [
    "gpu_device=mx.gpu() # Change this to mx.cpu() in absence of GPUs.\n",
    "\n",
    "\n",
    "def f():\n",
    "    a = mx.nd.ones((100,100))\n",
    "    b = mx.nd.ones((100,100))\n",
    "    c = a + b\n",
    "    print(c)\n",
    "# in default mx.cpu() is used\n",
    "f()\n",
    "# change the default context to the first GPU\n",
    "with mx.Context(gpu_device):\n",
    "    f()"
   ]
  },
  {
   "cell_type": "code",
   "execution_count": 5,
   "metadata": {
    "scrolled": true
   },
   "outputs": [
    {
     "name": "stdout",
     "output_type": "stream",
     "text": [
      "Epoch 1/20\n",
      "1000/1000 [==============================] - 0s 76us/step - loss: 2.4488 - acc: 0.1030\n",
      "Epoch 2/20\n",
      "1000/1000 [==============================] - 0s 19us/step - loss: 2.3698 - acc: 0.0910\n",
      "Epoch 3/20\n",
      "1000/1000 [==============================] - 0s 23us/step - loss: 2.3448 - acc: 0.1040\n",
      "Epoch 4/20\n",
      "1000/1000 [==============================] - 0s 17us/step - loss: 2.3168 - acc: 0.1070\n",
      "Epoch 5/20\n",
      "1000/1000 [==============================] - 0s 18us/step - loss: 2.3186 - acc: 0.0860\n",
      "Epoch 6/20\n",
      "1000/1000 [==============================] - 0s 18us/step - loss: 2.3121 - acc: 0.1120\n",
      "Epoch 7/20\n",
      "1000/1000 [==============================] - 0s 21us/step - loss: 2.3168 - acc: 0.0990\n",
      "Epoch 8/20\n",
      "1000/1000 [==============================] - 0s 21us/step - loss: 2.3037 - acc: 0.1250\n",
      "Epoch 9/20\n",
      "1000/1000 [==============================] - 0s 18us/step - loss: 2.3062 - acc: 0.1100\n",
      "Epoch 10/20\n",
      "1000/1000 [==============================] - 0s 19us/step - loss: 2.3053 - acc: 0.1220\n",
      "Epoch 11/20\n",
      "1000/1000 [==============================] - 0s 21us/step - loss: 2.3133 - acc: 0.1090\n",
      "Epoch 12/20\n",
      "1000/1000 [==============================] - 0s 20us/step - loss: 2.3079 - acc: 0.1110\n",
      "Epoch 13/20\n",
      "1000/1000 [==============================] - 0s 17us/step - loss: 2.3031 - acc: 0.1070\n",
      "Epoch 14/20\n",
      "1000/1000 [==============================] - 0s 22us/step - loss: 2.3020 - acc: 0.1220\n",
      "Epoch 15/20\n",
      "1000/1000 [==============================] - 0s 20us/step - loss: 2.2981 - acc: 0.1060\n",
      "Epoch 16/20\n",
      "1000/1000 [==============================] - 0s 19us/step - loss: 2.3027 - acc: 0.1100\n",
      "Epoch 17/20\n",
      "1000/1000 [==============================] - 0s 17us/step - loss: 2.3015 - acc: 0.1080\n",
      "Epoch 18/20\n",
      "1000/1000 [==============================] - 0s 20us/step - loss: 2.3046 - acc: 0.1170\n",
      "Epoch 19/20\n",
      "1000/1000 [==============================] - 0s 20us/step - loss: 2.2981 - acc: 0.1160\n",
      "Epoch 20/20\n",
      "1000/1000 [==============================] - 0s 21us/step - loss: 2.3068 - acc: 0.0940\n",
      "100/100 [==============================] - 0s 135us/step\n"
     ]
    }
   ],
   "source": [
    "import keras\n",
    "from keras.models import Sequential\n",
    "from keras.layers import Dense, Dropout, Activation\n",
    "from keras.optimizers import SGD\n",
    "\n",
    "# Generate dummy data\n",
    "import numpy as np\n",
    "x_train = np.random.random((1000, 20))\n",
    "y_train = keras.utils.to_categorical(np.random.randint(10, size=(1000, 1)), num_classes=10)\n",
    "x_test = np.random.random((100, 20))\n",
    "y_test = keras.utils.to_categorical(np.random.randint(10, size=(100, 1)), num_classes=10)\n",
    "\n",
    "model = Sequential()\n",
    "# Dense(64) is a fully-connected layer with 64 hidden units.\n",
    "# in the first layer, you must specify the expected input data shape:\n",
    "# here, 20-dimensional vectors.\n",
    "model.add(Dense(64, activation='relu', input_dim=20))\n",
    "model.add(Dropout(0.5))\n",
    "model.add(Dense(64, activation='relu'))\n",
    "model.add(Dropout(0.5))\n",
    "model.add(Dense(10, activation='softmax'))\n",
    "\n",
    "sgd = SGD(lr=0.01, decay=1e-6, momentum=0.9, nesterov=True)\n",
    "model.compile(loss='categorical_crossentropy',\n",
    "              optimizer=sgd,\n",
    "              metrics=['accuracy'])\n",
    "\n",
    "model.fit(x_train, y_train,\n",
    "          epochs=20,\n",
    "          batch_size=128)\n",
    "score = model.evaluate(x_test, y_test, batch_size=128)"
   ]
  },
  {
   "cell_type": "code",
   "execution_count": null,
   "metadata": {},
   "outputs": [],
   "source": []
  }
 ],
 "metadata": {
  "kernelspec": {
   "display_name": "Python 2",
   "language": "python",
   "name": "python2"
  },
  "language_info": {
   "codemirror_mode": {
    "name": "ipython",
    "version": 2
   },
   "file_extension": ".py",
   "mimetype": "text/x-python",
   "name": "python",
   "nbconvert_exporter": "python",
   "pygments_lexer": "ipython2",
   "version": "2.7.12"
  }
 },
 "nbformat": 4,
 "nbformat_minor": 2
}
